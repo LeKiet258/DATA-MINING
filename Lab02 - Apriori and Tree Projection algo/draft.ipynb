{
 "cells": [
  {
   "cell_type": "code",
   "execution_count": 4,
   "metadata": {},
   "outputs": [],
   "source": [
    "using Graphs\n",
    "using GraphPlot\n",
    "using AbstractTrees\n",
    "using GraphRecipes\n",
    "using Plots\n",
    "default(size=(1000, 1000))"
   ]
  },
  {
   "cell_type": "code",
   "execution_count": 5,
   "metadata": {},
   "outputs": [],
   "source": [
    "mutable struct Node1\n",
    "    itemset # vd: ['a', 'b']\n",
    "    # parent # node cha (itemset cha) của itemset hiện tại \n",
    "    children\n",
    "    sup \n",
    "\n",
    "    # constructor\n",
    "    Node1(its, chi = [], su = 0) = new(its, chi, su)\n",
    "end"
   ]
  },
  {
   "cell_type": "code",
   "execution_count": 6,
   "metadata": {},
   "outputs": [
    {
     "data": {
      "text/plain": [
       "Node1([nothing], Node1[Node1([1], Node1[Node1([1, 2], Any[], 0), Node1([1, 3], Any[], 0)], 0), Node1([2], Any[], 0), Node1([3], Any[], 0)], 0)"
      ]
     },
     "metadata": {},
     "output_type": "display_data"
    }
   ],
   "source": [
    "two_itemset = [Node1([1,2]), Node1([1,3])]\n",
    "one_itemset = [Node1([1]), Node1([2]), Node1([3])]\n",
    "root = Node1([nothing], one_itemset)\n",
    "\n",
    "itr = root\n",
    "itr.children[1].children = two_itemset\n",
    "\n",
    "tree = root \n"
   ]
  },
  {
   "cell_type": "code",
   "execution_count": 7,
   "metadata": {},
   "outputs": [
    {
     "name": "stdout",
     "output_type": "stream",
     "text": [
      "[nothing]\n",
      "├"
     ]
    },
    {
     "name": "stdout",
     "output_type": "stream",
     "text": [
      "─ "
     ]
    },
    {
     "name": "stdout",
     "output_type": "stream",
     "text": [
      "[1]\n",
      "│  ├─ [1, 2]\n",
      "│  └─ [1, 3]\n",
      "├─ [2]\n",
      "└─ [3]\n"
     ]
    }
   ],
   "source": [
    "AbstractTrees.children(node::Node1) = node.children\n",
    "function AbstractTrees.printnode(io::IO, node::Node1)\n",
    "    str = node.itemset\n",
    "    print(io, str)\n",
    "end\n",
    "# AbstractTrees.printnode(io::IO, node::Node1) = print(io, \"$(data)\")\n",
    "print_tree(tree)\n"
   ]
  },
  {
   "cell_type": "code",
   "execution_count": 8,
   "metadata": {},
   "outputs": [
    {
     "data": {
      "text/plain": [
       "true"
      ]
     },
     "metadata": {},
     "output_type": "display_data"
    }
   ],
   "source": [
    "a = [1,2,3]\n",
    "b = [1,2]\n",
    "\n",
    "a[1:end-1] == b"
   ]
  },
  {
   "cell_type": "markdown",
   "metadata": {},
   "source": [
    "# BACKUP !"
   ]
  },
  {
   "cell_type": "code",
   "execution_count": null,
   "metadata": {},
   "outputs": [],
   "source": [
    "function apriori_tree(database, min_sup)\n",
    "    one_itemset = countmap(collect(Iterators.flatten(database)))\n",
    "    one_itemset = [Node([item.first], [], item.second) for item in one_itemset if item.second >= min_sup]\n",
    "    root_node = Node([nothing], one_itemset)\n",
    "    itr = root_node.children # root_node iterator\n",
    "\n",
    "    while !isempty(itr)\n",
    "        println(\"generating candidates...\")\n",
    "        candidate_nodes = candidate_nodes_gen(itr) # queue dc pass-by-ref -> update queue's children\n",
    "        \n",
    "        try\n",
    "            println(length(candidate_nodes[1].itemset))\n",
    "        catch\n",
    "            # pass\n",
    "        end\n",
    "        \n",
    "        for transaction in database\n",
    "            for candidate in candidate_nodes \n",
    "                if candidate.itemset ⊆ transaction # if transaction contains candidate \n",
    "                    candidate.sup += 1\n",
    "                end\n",
    "            end\n",
    "        end\n",
    "        \n",
    "        # lọc ra tập phổ biến, với các tập ko phổ biến thì xóa nó khỏi cây\n",
    "        large_itemset = []\n",
    "        for node in candidate_nodes\n",
    "            if node.sup >= min_sup\n",
    "                push!(large_itemset, node)\n",
    "            else\n",
    "                par = node.parent \n",
    "                deleteat!(par.children, findall(x->x==node, par.children))\n",
    "                node.parent = []\n",
    "            end\n",
    "        end\n",
    "        \n",
    "        itr = large_itemset\n",
    "    end\n",
    "\n",
    "    println(\"Done\")\n",
    "    return root_node \n",
    "end"
   ]
  },
  {
   "cell_type": "code",
   "execution_count": null,
   "metadata": {},
   "outputs": [],
   "source": [
    "function candidate_gen(large_itemset)\n",
    "    candidate_list = Set()\n",
    "    k = length(large_itemset[1]) + 1 # SL ptu của mỗi candidate trong candidate_list (hay Ck)\n",
    "\n",
    "    # for (transaction i) and (transaction j) in large_itemset\n",
    "    for i=1:length(large_itemset)\n",
    "        for j=i+1:length(large_itemset)\n",
    "            # 2 transactions phải giống nhau n-1 ptu, chỉ khác nhau bởi đúng 1 ptu\n",
    "            u = union(Set(large_itemset[i]), Set(large_itemset[j]))\n",
    "            # nếu thỏa mãn DK trên thì tập intersection chỉ dài hơn large_itemset[i] đúng 1 ptu\n",
    "            if length(u) == k\n",
    "                # tỉa nhánh: \n",
    "                flag = 0 \n",
    "                u_converted = sort!((x->(x)).(u)) # convert u (set) to u (Array) \n",
    "                for subset in collect(combinations(u_converted,k-1))\n",
    "                    sort!(subset) # VD: ['C','T'] ∈ [['A','B'], ['C', 'T']] trong khi  ['T','C'] ∉ [['A','B'], ['C', 'T']]\n",
    "                    # nếu tồn tại tập con k-1 ptu không phổ biến (tức ko nằm trong large_itemset) thì tập cha chứa nó ko phổ biến -> ko thêm tập cha k ptu vào candidate_list\n",
    "                    if subset ∉ large_itemset \n",
    "                        flag = 1\n",
    "                        break\n",
    "                    end\n",
    "                end\n",
    "                # ngược lại, nếu tất cả tập con phổ biến thì tập cha dc thêm vào candidate_list\n",
    "                if flag == 0\n",
    "                    push!(candidate_list, u_converted)\n",
    "                end\n",
    "            end\n",
    "        end\n",
    "    end\n",
    "    return candidate_list\n",
    "end"
   ]
  },
  {
   "cell_type": "code",
   "execution_count": null,
   "metadata": {},
   "outputs": [],
   "source": [
    "function candidate_nodes_gen(large_itemset_nodes)\n",
    "    large_itemset = [node.itemset for node in large_itemset_nodes]\n",
    "    candidate_nodes = []\n",
    "    candidate_list = Set()\n",
    "    k = length(large_itemset[1]) + 1 # SL ptu của mỗi candidate trong candidate_list (hay Ck)\n",
    "    loopi = 1\n",
    "\n",
    "    # for (transaction i) and (transaction j) in large_itemset\n",
    "    for i=1:length(large_itemset)\n",
    "        for j=i+1:length(large_itemset)\n",
    "            # 2 transactions phải giống nhau n-1 ptu, chỉ khác nhau bởi đúng 1 ptu\n",
    "            u = union(Set(large_itemset[i]), Set(large_itemset[j]))\n",
    "            # nếu thỏa mãn DK trên thì tập union chỉ dài hơn large_itemset[i] đúng 1 ptu\n",
    "            if length(u) == k   \n",
    "                # tỉa nhánh: \n",
    "                flag = 0 \n",
    "                # sort u to guarantee a lexico order, then convert u (Set) to u (Array) \n",
    "                u_converted = sort!((x->(x)).(u)) \n",
    "\n",
    "                for subset in collect(combinations(u_converted,k-1))\n",
    "                    sort!(subset) # VD: ['C','T'] ∈ [['A','B'], ['C','T']] trong khi  ['T','C'] ∉ [['A','B'], ['C','T']]\n",
    "                    # nếu tồn tại tập con k-1 ptu không phổ biến (tức ko nằm trong large_itemset) thì tập cha chứa nó ko phổ biến -> ko thêm tập cha k ptu vào candidate_list\n",
    "                    if subset ∉ large_itemset \n",
    "                        flag = 1\n",
    "                        break\n",
    "                    end\n",
    "                end\n",
    "                # ngược lại, nếu tất cả tập con phổ biến thì tập cha dc thêm vào candidate_list\n",
    "                if flag == 0 && u_converted ∉ candidate_list\n",
    "                    push!(candidate_list, u_converted)\n",
    "\n",
    "                    node = Node(u_converted)\n",
    "                    node.parent = large_itemset_nodes[i]\n",
    "                    push!(large_itemset_nodes[i].children, node) # append children to parent node\n",
    "                    push!(candidate_nodes, node)\n",
    "                end\n",
    "            end\n",
    "        end  \n",
    "    end\n",
    "    return candidate_nodes\n",
    "end"
   ]
  }
 ],
 "metadata": {
  "kernelspec": {
   "display_name": "Julia 1.6.4",
   "language": "julia",
   "name": "julia-1.6"
  },
  "language_info": {
   "file_extension": ".jl",
   "mimetype": "application/julia",
   "name": "julia",
   "version": "1.6.4"
  },
  "orig_nbformat": 4
 },
 "nbformat": 4,
 "nbformat_minor": 2
}
